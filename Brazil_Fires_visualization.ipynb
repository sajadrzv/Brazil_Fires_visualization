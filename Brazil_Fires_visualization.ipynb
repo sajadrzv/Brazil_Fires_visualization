{
 "cells": [
  {
   "cell_type": "markdown",
   "id": "8d75a6a2",
   "metadata": {
    "_cell_guid": "b1076dfc-b9ad-4769-8c92-a6c4dae69d19",
    "_uuid": "8f2839f25d086af736a60e9eeb907d3b93b6e0e5",
    "papermill": {
     "duration": 0.060636,
     "end_time": "2021-07-20T06:01:53.353878",
     "exception": false,
     "start_time": "2021-07-20T06:01:53.293242",
     "status": "completed"
    },
    "tags": []
   },
   "source": [
    "# **The Stater Code**"
   ]
  },
  {
   "cell_type": "markdown",
   "id": "c449ec9d",
   "metadata": {
    "papermill": {
     "duration": 0.059498,
     "end_time": "2021-07-20T06:01:53.616516",
     "exception": false,
     "start_time": "2021-07-20T06:01:53.557018",
     "status": "completed"
    },
    "tags": []
   },
   "source": [
    "# Import"
   ]
  },
  {
   "cell_type": "code",
   "execution_count": 1,
   "id": "622e41bf",
   "metadata": {
    "execution": {
     "iopub.execute_input": "2021-07-20T06:01:53.749786Z",
     "iopub.status.busy": "2021-07-20T06:01:53.749108Z",
     "iopub.status.idle": "2021-07-20T06:01:54.823437Z",
     "shell.execute_reply": "2021-07-20T06:01:54.823963Z",
     "shell.execute_reply.started": "2021-07-20T05:56:43.351806Z"
    },
    "papermill": {
     "duration": 1.146932,
     "end_time": "2021-07-20T06:01:54.824285",
     "exception": false,
     "start_time": "2021-07-20T06:01:53.677353",
     "status": "completed"
    },
    "tags": []
   },
   "outputs": [],
   "source": [
    "import numpy as np\n",
    "import pandas as pd\n",
    "import matplotlib as mpl\n",
    "import matplotlib.pyplot as plt\n",
    "%matplotlib inline\n",
    "import datetime\n",
    "import seaborn as sns\n",
    "from collections import Counter\n"
   ]
  },
  {
   "cell_type": "markdown",
   "id": "1fb4ed62",
   "metadata": {},
   "source": [
    "**Report**\n",
    "\n",
    "In this part I'm importing the required libraries in order to use them for doing different procedures."
   ]
  },
  {
   "cell_type": "markdown",
   "id": "7071c81d",
   "metadata": {
    "papermill": {
     "duration": 0.060177,
     "end_time": "2021-07-20T06:01:54.944777",
     "exception": false,
     "start_time": "2021-07-20T06:01:54.884600",
     "status": "completed"
    },
    "tags": []
   },
   "source": [
    "# Load the data and showing some high level information of dataset"
   ]
  },
  {
   "cell_type": "code",
   "execution_count": 3,
   "id": "b657570e",
   "metadata": {},
   "outputs": [
    {
     "data": {
      "text/html": [
       "<div>\n",
       "<style scoped>\n",
       "    .dataframe tbody tr th:only-of-type {\n",
       "        vertical-align: middle;\n",
       "    }\n",
       "\n",
       "    .dataframe tbody tr th {\n",
       "        vertical-align: top;\n",
       "    }\n",
       "\n",
       "    .dataframe thead th {\n",
       "        text-align: right;\n",
       "    }\n",
       "</style>\n",
       "<table border=\"1\" class=\"dataframe\">\n",
       "  <thead>\n",
       "    <tr style=\"text-align: right;\">\n",
       "      <th></th>\n",
       "      <th>year</th>\n",
       "      <th>state</th>\n",
       "      <th>month</th>\n",
       "      <th>number</th>\n",
       "      <th>date</th>\n",
       "    </tr>\n",
       "  </thead>\n",
       "  <tbody>\n",
       "    <tr>\n",
       "      <th>0</th>\n",
       "      <td>1998</td>\n",
       "      <td>Acre</td>\n",
       "      <td>Janeiro</td>\n",
       "      <td>0.0</td>\n",
       "      <td>1998-01-01</td>\n",
       "    </tr>\n",
       "    <tr>\n",
       "      <th>1</th>\n",
       "      <td>1999</td>\n",
       "      <td>Acre</td>\n",
       "      <td>Janeiro</td>\n",
       "      <td>0.0</td>\n",
       "      <td>1999-01-01</td>\n",
       "    </tr>\n",
       "    <tr>\n",
       "      <th>2</th>\n",
       "      <td>2000</td>\n",
       "      <td>Acre</td>\n",
       "      <td>Janeiro</td>\n",
       "      <td>0.0</td>\n",
       "      <td>2000-01-01</td>\n",
       "    </tr>\n",
       "    <tr>\n",
       "      <th>3</th>\n",
       "      <td>2001</td>\n",
       "      <td>Acre</td>\n",
       "      <td>Janeiro</td>\n",
       "      <td>0.0</td>\n",
       "      <td>2001-01-01</td>\n",
       "    </tr>\n",
       "    <tr>\n",
       "      <th>4</th>\n",
       "      <td>2002</td>\n",
       "      <td>Acre</td>\n",
       "      <td>Janeiro</td>\n",
       "      <td>0.0</td>\n",
       "      <td>2002-01-01</td>\n",
       "    </tr>\n",
       "    <tr>\n",
       "      <th>5</th>\n",
       "      <td>2003</td>\n",
       "      <td>Acre</td>\n",
       "      <td>Janeiro</td>\n",
       "      <td>10.0</td>\n",
       "      <td>2003-01-01</td>\n",
       "    </tr>\n",
       "    <tr>\n",
       "      <th>6</th>\n",
       "      <td>2004</td>\n",
       "      <td>Acre</td>\n",
       "      <td>Janeiro</td>\n",
       "      <td>0.0</td>\n",
       "      <td>2004-01-01</td>\n",
       "    </tr>\n",
       "    <tr>\n",
       "      <th>7</th>\n",
       "      <td>2005</td>\n",
       "      <td>Acre</td>\n",
       "      <td>Janeiro</td>\n",
       "      <td>12.0</td>\n",
       "      <td>2005-01-01</td>\n",
       "    </tr>\n",
       "  </tbody>\n",
       "</table>\n",
       "</div>"
      ],
      "text/plain": [
       "   year state    month  number        date\n",
       "0  1998  Acre  Janeiro     0.0  1998-01-01\n",
       "1  1999  Acre  Janeiro     0.0  1999-01-01\n",
       "2  2000  Acre  Janeiro     0.0  2000-01-01\n",
       "3  2001  Acre  Janeiro     0.0  2001-01-01\n",
       "4  2002  Acre  Janeiro     0.0  2002-01-01\n",
       "5  2003  Acre  Janeiro    10.0  2003-01-01\n",
       "6  2004  Acre  Janeiro     0.0  2004-01-01\n",
       "7  2005  Acre  Janeiro    12.0  2005-01-01"
      ]
     },
     "metadata": {},
     "output_type": "display_data"
    },
    {
     "data": {
      "text/html": [
       "<div>\n",
       "<style scoped>\n",
       "    .dataframe tbody tr th:only-of-type {\n",
       "        vertical-align: middle;\n",
       "    }\n",
       "\n",
       "    .dataframe tbody tr th {\n",
       "        vertical-align: top;\n",
       "    }\n",
       "\n",
       "    .dataframe thead th {\n",
       "        text-align: right;\n",
       "    }\n",
       "</style>\n",
       "<table border=\"1\" class=\"dataframe\">\n",
       "  <thead>\n",
       "    <tr style=\"text-align: right;\">\n",
       "      <th></th>\n",
       "      <th>year</th>\n",
       "      <th>state</th>\n",
       "      <th>month</th>\n",
       "      <th>number</th>\n",
       "      <th>date</th>\n",
       "    </tr>\n",
       "  </thead>\n",
       "  <tbody>\n",
       "    <tr>\n",
       "      <th>6449</th>\n",
       "      <td>2012</td>\n",
       "      <td>Tocantins</td>\n",
       "      <td>Dezembro</td>\n",
       "      <td>128.0</td>\n",
       "      <td>2012-01-01</td>\n",
       "    </tr>\n",
       "    <tr>\n",
       "      <th>6450</th>\n",
       "      <td>2013</td>\n",
       "      <td>Tocantins</td>\n",
       "      <td>Dezembro</td>\n",
       "      <td>85.0</td>\n",
       "      <td>2013-01-01</td>\n",
       "    </tr>\n",
       "    <tr>\n",
       "      <th>6451</th>\n",
       "      <td>2014</td>\n",
       "      <td>Tocantins</td>\n",
       "      <td>Dezembro</td>\n",
       "      <td>223.0</td>\n",
       "      <td>2014-01-01</td>\n",
       "    </tr>\n",
       "    <tr>\n",
       "      <th>6452</th>\n",
       "      <td>2015</td>\n",
       "      <td>Tocantins</td>\n",
       "      <td>Dezembro</td>\n",
       "      <td>373.0</td>\n",
       "      <td>2015-01-01</td>\n",
       "    </tr>\n",
       "    <tr>\n",
       "      <th>6453</th>\n",
       "      <td>2016</td>\n",
       "      <td>Tocantins</td>\n",
       "      <td>Dezembro</td>\n",
       "      <td>119.0</td>\n",
       "      <td>2016-01-01</td>\n",
       "    </tr>\n",
       "  </tbody>\n",
       "</table>\n",
       "</div>"
      ],
      "text/plain": [
       "      year      state     month  number        date\n",
       "6449  2012  Tocantins  Dezembro   128.0  2012-01-01\n",
       "6450  2013  Tocantins  Dezembro    85.0  2013-01-01\n",
       "6451  2014  Tocantins  Dezembro   223.0  2014-01-01\n",
       "6452  2015  Tocantins  Dezembro   373.0  2015-01-01\n",
       "6453  2016  Tocantins  Dezembro   119.0  2016-01-01"
      ]
     },
     "metadata": {},
     "output_type": "display_data"
    },
    {
     "name": "stdout",
     "output_type": "stream",
     "text": [
      "Dimension of the dataset: 2\n",
      "\n",
      "Number of Rows and Columns: (6454, 5)\n",
      "\n",
      "Dataset Info:\n",
      "\n",
      "\n",
      "<class 'pandas.core.frame.DataFrame'>\n",
      "RangeIndex: 6454 entries, 0 to 6453\n",
      "Data columns (total 5 columns):\n",
      " #   Column  Non-Null Count  Dtype  \n",
      "---  ------  --------------  -----  \n",
      " 0   year    6454 non-null   int64  \n",
      " 1   state   6454 non-null   object \n",
      " 2   month   6454 non-null   object \n",
      " 3   number  6454 non-null   float64\n",
      " 4   date    6454 non-null   object \n",
      "dtypes: float64(1), int64(1), object(3)\n",
      "memory usage: 252.2+ KB\n"
     ]
    },
    {
     "data": {
      "text/plain": [
       "None"
      ]
     },
     "metadata": {},
     "output_type": "display_data"
    },
    {
     "name": "stdout",
     "output_type": "stream",
     "text": [
      "\n",
      "\n"
     ]
    },
    {
     "data": {
      "text/plain": [
       "'Description of numerical columns:'"
      ]
     },
     "metadata": {},
     "output_type": "display_data"
    },
    {
     "data": {
      "text/html": [
       "<div>\n",
       "<style scoped>\n",
       "    .dataframe tbody tr th:only-of-type {\n",
       "        vertical-align: middle;\n",
       "    }\n",
       "\n",
       "    .dataframe tbody tr th {\n",
       "        vertical-align: top;\n",
       "    }\n",
       "\n",
       "    .dataframe thead th {\n",
       "        text-align: right;\n",
       "    }\n",
       "</style>\n",
       "<table border=\"1\" class=\"dataframe\">\n",
       "  <thead>\n",
       "    <tr style=\"text-align: right;\">\n",
       "      <th></th>\n",
       "      <th>year</th>\n",
       "      <th>number</th>\n",
       "    </tr>\n",
       "  </thead>\n",
       "  <tbody>\n",
       "    <tr>\n",
       "      <th>count</th>\n",
       "      <td>6454.000000</td>\n",
       "      <td>6454.000000</td>\n",
       "    </tr>\n",
       "    <tr>\n",
       "      <th>mean</th>\n",
       "      <td>2007.461729</td>\n",
       "      <td>108.293163</td>\n",
       "    </tr>\n",
       "    <tr>\n",
       "      <th>std</th>\n",
       "      <td>5.746654</td>\n",
       "      <td>190.812242</td>\n",
       "    </tr>\n",
       "    <tr>\n",
       "      <th>min</th>\n",
       "      <td>1998.000000</td>\n",
       "      <td>0.000000</td>\n",
       "    </tr>\n",
       "    <tr>\n",
       "      <th>25%</th>\n",
       "      <td>2002.000000</td>\n",
       "      <td>3.000000</td>\n",
       "    </tr>\n",
       "    <tr>\n",
       "      <th>50%</th>\n",
       "      <td>2007.000000</td>\n",
       "      <td>24.000000</td>\n",
       "    </tr>\n",
       "    <tr>\n",
       "      <th>75%</th>\n",
       "      <td>2012.000000</td>\n",
       "      <td>113.000000</td>\n",
       "    </tr>\n",
       "    <tr>\n",
       "      <th>max</th>\n",
       "      <td>2017.000000</td>\n",
       "      <td>998.000000</td>\n",
       "    </tr>\n",
       "  </tbody>\n",
       "</table>\n",
       "</div>"
      ],
      "text/plain": [
       "              year       number\n",
       "count  6454.000000  6454.000000\n",
       "mean   2007.461729   108.293163\n",
       "std       5.746654   190.812242\n",
       "min    1998.000000     0.000000\n",
       "25%    2002.000000     3.000000\n",
       "50%    2007.000000    24.000000\n",
       "75%    2012.000000   113.000000\n",
       "max    2017.000000   998.000000"
      ]
     },
     "metadata": {},
     "output_type": "display_data"
    },
    {
     "name": "stdout",
     "output_type": "stream",
     "text": [
      "Unique states are : \n"
     ]
    },
    {
     "data": {
      "text/plain": [
       "array(['Acre', 'Alagoas', 'Amapa', 'Amazonas', 'Bahia', 'Ceara',\n",
       "       'Distrito Federal', 'Espirito Santo', 'Goias', 'Maranhao',\n",
       "       'Mato Grosso', 'Minas Gerais', 'Pará', 'Paraiba', 'Pernambuco',\n",
       "       'Piau', 'Rio', 'Rondonia', 'Roraima', 'Santa Catarina',\n",
       "       'Sao Paulo', 'Sergipe', 'Tocantins'], dtype=object)"
      ]
     },
     "metadata": {},
     "output_type": "display_data"
    },
    {
     "name": "stdout",
     "output_type": "stream",
     "text": [
      "\n",
      "Unique Years are : \n"
     ]
    },
    {
     "data": {
      "text/plain": [
       "array([1998, 1999, 2000, 2001, 2002, 2003, 2004, 2005, 2006, 2007, 2008,\n",
       "       2009, 2010, 2011, 2012, 2013, 2014, 2015, 2016, 2017])"
      ]
     },
     "metadata": {},
     "output_type": "display_data"
    }
   ],
   "source": [
    "# importing dataset\n",
    "df=pd.read_csv(\"/amazon.csv\")\n",
    "\n",
    "# display 1st 8 rows\n",
    "display(df.head(8))\n",
    "\n",
    "# display last 5 rows\n",
    "display(df.tail(5))\n",
    "\n",
    "# dimension of the dataset\n",
    "print(\"Dimension of the dataset:\",df.ndim);print();print(\"Number of Rows and Columns:\",df.shape);print()\n",
    "\n",
    "# dataset info\n",
    "print(\"Dataset Info:\")\n",
    "print(\"\\n\")\n",
    "display(df.info() )\n",
    "\n",
    "\n",
    "# description of numerical columns, like mean,min,max,count,and quartiles \n",
    "print(\"\\n\")\n",
    "display(\"Description of numerical columns:\",df.describe())\n",
    "\n",
    "# checking for number of unique states and changing name of a state from Par� to Pará\n",
    "df = df.replace('Par�', 'Pará')\n",
    "print(\"Unique states are : \")\n",
    "display(df['state'].unique())\n",
    "\n",
    "\n",
    "# checking for the unique years of this dataset\n",
    "print();print(\"Unique Years are : \")\n",
    "display(df['year'].unique())\n"
   ]
  },
  {
   "cell_type": "markdown",
   "id": "77bb3353",
   "metadata": {},
   "source": [
    "**Report**\n",
    "\n",
    "- As we see above , the first 8 rows and last 5 rows of the dataset have been presented. This dataset presents the number of fires for the 23 different states of Brazil from 1998  to 2017 in various months.\n",
    "- As indicated above,this dataset has **6454** rows and **5** columns that types of data and columns' names can be seen in the dataset info.\n",
    "- Also, numerical columns are the year and number that as indicated for the year column, minimum is 1998,maximum is 2017 and the avergae is almost 2007.50 .\n",
    "- For the number column that is for the number of fire, minimum is 0,maximum is 998 and the average is almost 108.30 .\n",
    "- Unique states and years have been shown . "
   ]
  },
  {
   "cell_type": "markdown",
   "id": "a8b3ac24",
   "metadata": {},
   "source": [
    "# Pre-Process the data"
   ]
  },
  {
   "cell_type": "markdown",
   "id": "9bf3c74e",
   "metadata": {},
   "source": [
    "**Change months into English: 'Jan', 'Feb', 'March', 'Apr', 'May', 'June', 'July', 'Aug', 'Sep',\n",
    "       'Oct', 'Nov', 'Dec'** \n",
    "       \n",
    "       \n",
    "**Replace the original date with new Month_Year**"
   ]
  },
  {
   "cell_type": "code",
   "execution_count": 4,
   "id": "9042c47f",
   "metadata": {},
   "outputs": [
    {
     "data": {
      "text/plain": [
       "Jan      541\n",
       "Feb      540\n",
       "Aug      540\n",
       "March    540\n",
       "July     540\n",
       "June     540\n",
       "Apr      540\n",
       "Sep      540\n",
       "Oct      540\n",
       "Nov      540\n",
       "May      540\n",
       "Dec      513\n",
       "Name: month, dtype: int64"
      ]
     },
     "metadata": {},
     "output_type": "display_data"
    },
    {
     "data": {
      "text/html": [
       "<div>\n",
       "<style scoped>\n",
       "    .dataframe tbody tr th:only-of-type {\n",
       "        vertical-align: middle;\n",
       "    }\n",
       "\n",
       "    .dataframe tbody tr th {\n",
       "        vertical-align: top;\n",
       "    }\n",
       "\n",
       "    .dataframe thead th {\n",
       "        text-align: right;\n",
       "    }\n",
       "</style>\n",
       "<table border=\"1\" class=\"dataframe\">\n",
       "  <thead>\n",
       "    <tr style=\"text-align: right;\">\n",
       "      <th></th>\n",
       "      <th>year</th>\n",
       "      <th>state</th>\n",
       "      <th>month</th>\n",
       "      <th>number</th>\n",
       "      <th>date</th>\n",
       "    </tr>\n",
       "  </thead>\n",
       "  <tbody>\n",
       "    <tr>\n",
       "      <th>0</th>\n",
       "      <td>1998</td>\n",
       "      <td>Acre</td>\n",
       "      <td>Jan</td>\n",
       "      <td>0.0</td>\n",
       "      <td>1998-01-01</td>\n",
       "    </tr>\n",
       "    <tr>\n",
       "      <th>1</th>\n",
       "      <td>1999</td>\n",
       "      <td>Acre</td>\n",
       "      <td>Jan</td>\n",
       "      <td>0.0</td>\n",
       "      <td>1999-01-01</td>\n",
       "    </tr>\n",
       "    <tr>\n",
       "      <th>2</th>\n",
       "      <td>2000</td>\n",
       "      <td>Acre</td>\n",
       "      <td>Jan</td>\n",
       "      <td>0.0</td>\n",
       "      <td>2000-01-01</td>\n",
       "    </tr>\n",
       "    <tr>\n",
       "      <th>3</th>\n",
       "      <td>2001</td>\n",
       "      <td>Acre</td>\n",
       "      <td>Jan</td>\n",
       "      <td>0.0</td>\n",
       "      <td>2001-01-01</td>\n",
       "    </tr>\n",
       "    <tr>\n",
       "      <th>4</th>\n",
       "      <td>2002</td>\n",
       "      <td>Acre</td>\n",
       "      <td>Jan</td>\n",
       "      <td>0.0</td>\n",
       "      <td>2002-01-01</td>\n",
       "    </tr>\n",
       "    <tr>\n",
       "      <th>5</th>\n",
       "      <td>2003</td>\n",
       "      <td>Acre</td>\n",
       "      <td>Jan</td>\n",
       "      <td>10.0</td>\n",
       "      <td>2003-01-01</td>\n",
       "    </tr>\n",
       "    <tr>\n",
       "      <th>6</th>\n",
       "      <td>2004</td>\n",
       "      <td>Acre</td>\n",
       "      <td>Jan</td>\n",
       "      <td>0.0</td>\n",
       "      <td>2004-01-01</td>\n",
       "    </tr>\n",
       "    <tr>\n",
       "      <th>7</th>\n",
       "      <td>2005</td>\n",
       "      <td>Acre</td>\n",
       "      <td>Jan</td>\n",
       "      <td>12.0</td>\n",
       "      <td>2005-01-01</td>\n",
       "    </tr>\n",
       "  </tbody>\n",
       "</table>\n",
       "</div>"
      ],
      "text/plain": [
       "   year state month  number        date\n",
       "0  1998  Acre   Jan     0.0  1998-01-01\n",
       "1  1999  Acre   Jan     0.0  1999-01-01\n",
       "2  2000  Acre   Jan     0.0  2000-01-01\n",
       "3  2001  Acre   Jan     0.0  2001-01-01\n",
       "4  2002  Acre   Jan     0.0  2002-01-01\n",
       "5  2003  Acre   Jan    10.0  2003-01-01\n",
       "6  2004  Acre   Jan     0.0  2004-01-01\n",
       "7  2005  Acre   Jan    12.0  2005-01-01"
      ]
     },
     "metadata": {},
     "output_type": "display_data"
    }
   ],
   "source": [
    "# changing portugeese names of months to English ones\n",
    "df.loc[ df[\"month\"] == \"Janeiro\", \"month\"] = \"Jan\"\n",
    "df.loc[ df[\"month\"] == \"Fevereiro\", \"month\"] = \"Feb\"\n",
    "df.loc[ df[\"month\"] == \"Mar�o\", \"month\"] = \"March\"\n",
    "df.loc[ df[\"month\"] == \"Abril\", \"month\"] = \"Apr\"\n",
    "df.loc[ df[\"month\"] == \"Maio\", \"month\"] = \"May\"\n",
    "df.loc[ df[\"month\"] == \"Junho\", \"month\"] = \"June\"\n",
    "df.loc[ df[\"month\"] == \"Julho\", \"month\"] = \"July\"\n",
    "df.loc[ df[\"month\"] == \"Agosto\", \"month\"] = \"Aug\"\n",
    "df.loc[ df[\"month\"] == \"Setembro\", \"month\"] = \"Sep\"\n",
    "df.loc[ df[\"month\"] == \"Outubro\", \"month\"] = \"Oct\"\n",
    "df.loc[ df[\"month\"] == \"Novembro\", \"month\"] = \"Nov\"\n",
    "df.loc[ df[\"month\"] == \"Dezembro\", \"month\"] = \"Dec\"\n",
    "\n",
    "# display the new values for month\n",
    "display(df.month.value_counts())\n",
    "\n",
    "# display the df\n",
    "display(df.head(8))"
   ]
  },
  {
   "cell_type": "markdown",
   "id": "37f1a8bc",
   "metadata": {},
   "source": [
    "**Report**\n",
    "\n",
    "For this part , I used the explicit indexing \"loc\" in order to change the names of months to English ones."
   ]
  },
  {
   "cell_type": "markdown",
   "id": "c0c76177",
   "metadata": {},
   "source": [
    "**Replace the original date with new Month_Year**"
   ]
  },
  {
   "cell_type": "markdown",
   "id": "e32fb4aa",
   "metadata": {},
   "source": [
    "**Reomve the original date column**"
   ]
  },
  {
   "cell_type": "code",
   "execution_count": 6,
   "id": "4545cc3e",
   "metadata": {},
   "outputs": [
    {
     "data": {
      "text/html": [
       "<div>\n",
       "<style scoped>\n",
       "    .dataframe tbody tr th:only-of-type {\n",
       "        vertical-align: middle;\n",
       "    }\n",
       "\n",
       "    .dataframe tbody tr th {\n",
       "        vertical-align: top;\n",
       "    }\n",
       "\n",
       "    .dataframe thead th {\n",
       "        text-align: right;\n",
       "    }\n",
       "</style>\n",
       "<table border=\"1\" class=\"dataframe\">\n",
       "  <thead>\n",
       "    <tr style=\"text-align: right;\">\n",
       "      <th></th>\n",
       "      <th>year</th>\n",
       "      <th>state</th>\n",
       "      <th>month</th>\n",
       "      <th>number</th>\n",
       "      <th>Correct Date</th>\n",
       "    </tr>\n",
       "  </thead>\n",
       "  <tbody>\n",
       "    <tr>\n",
       "      <th>0</th>\n",
       "      <td>1998</td>\n",
       "      <td>Acre</td>\n",
       "      <td>Jan</td>\n",
       "      <td>0.0</td>\n",
       "      <td>1998-01-01</td>\n",
       "    </tr>\n",
       "    <tr>\n",
       "      <th>1</th>\n",
       "      <td>1999</td>\n",
       "      <td>Acre</td>\n",
       "      <td>Jan</td>\n",
       "      <td>0.0</td>\n",
       "      <td>1999-01-01</td>\n",
       "    </tr>\n",
       "    <tr>\n",
       "      <th>2</th>\n",
       "      <td>2000</td>\n",
       "      <td>Acre</td>\n",
       "      <td>Jan</td>\n",
       "      <td>0.0</td>\n",
       "      <td>2000-01-01</td>\n",
       "    </tr>\n",
       "    <tr>\n",
       "      <th>3</th>\n",
       "      <td>2001</td>\n",
       "      <td>Acre</td>\n",
       "      <td>Jan</td>\n",
       "      <td>0.0</td>\n",
       "      <td>2001-01-01</td>\n",
       "    </tr>\n",
       "    <tr>\n",
       "      <th>4</th>\n",
       "      <td>2002</td>\n",
       "      <td>Acre</td>\n",
       "      <td>Jan</td>\n",
       "      <td>0.0</td>\n",
       "      <td>2002-01-01</td>\n",
       "    </tr>\n",
       "    <tr>\n",
       "      <th>...</th>\n",
       "      <td>...</td>\n",
       "      <td>...</td>\n",
       "      <td>...</td>\n",
       "      <td>...</td>\n",
       "      <td>...</td>\n",
       "    </tr>\n",
       "    <tr>\n",
       "      <th>6449</th>\n",
       "      <td>2012</td>\n",
       "      <td>Tocantins</td>\n",
       "      <td>Dec</td>\n",
       "      <td>128.0</td>\n",
       "      <td>2012-12-01</td>\n",
       "    </tr>\n",
       "    <tr>\n",
       "      <th>6450</th>\n",
       "      <td>2013</td>\n",
       "      <td>Tocantins</td>\n",
       "      <td>Dec</td>\n",
       "      <td>85.0</td>\n",
       "      <td>2013-12-01</td>\n",
       "    </tr>\n",
       "    <tr>\n",
       "      <th>6451</th>\n",
       "      <td>2014</td>\n",
       "      <td>Tocantins</td>\n",
       "      <td>Dec</td>\n",
       "      <td>223.0</td>\n",
       "      <td>2014-12-01</td>\n",
       "    </tr>\n",
       "    <tr>\n",
       "      <th>6452</th>\n",
       "      <td>2015</td>\n",
       "      <td>Tocantins</td>\n",
       "      <td>Dec</td>\n",
       "      <td>373.0</td>\n",
       "      <td>2015-12-01</td>\n",
       "    </tr>\n",
       "    <tr>\n",
       "      <th>6453</th>\n",
       "      <td>2016</td>\n",
       "      <td>Tocantins</td>\n",
       "      <td>Dec</td>\n",
       "      <td>119.0</td>\n",
       "      <td>2016-12-01</td>\n",
       "    </tr>\n",
       "  </tbody>\n",
       "</table>\n",
       "<p>6454 rows × 5 columns</p>\n",
       "</div>"
      ],
      "text/plain": [
       "      year      state month  number Correct Date\n",
       "0     1998       Acre   Jan     0.0   1998-01-01\n",
       "1     1999       Acre   Jan     0.0   1999-01-01\n",
       "2     2000       Acre   Jan     0.0   2000-01-01\n",
       "3     2001       Acre   Jan     0.0   2001-01-01\n",
       "4     2002       Acre   Jan     0.0   2002-01-01\n",
       "...    ...        ...   ...     ...          ...\n",
       "6449  2012  Tocantins   Dec   128.0   2012-12-01\n",
       "6450  2013  Tocantins   Dec    85.0   2013-12-01\n",
       "6451  2014  Tocantins   Dec   223.0   2014-12-01\n",
       "6452  2015  Tocantins   Dec   373.0   2015-12-01\n",
       "6453  2016  Tocantins   Dec   119.0   2016-12-01\n",
       "\n",
       "[6454 rows x 5 columns]"
      ]
     },
     "metadata": {},
     "output_type": "display_data"
    }
   ],
   "source": [
    "# extract years\n",
    "years=df.year\n",
    "\n",
    "# mapping for the month names and numbers\n",
    "mappings = {'Jan': '01', 'Feb': '02', 'March': '03', 'Apr': '04', 'May': '05', 'June': '06',\n",
    "            'July': '07',  'Aug': '08', 'Sep': '09', 'Oct': '10', 'Nov': '11', 'Dec': '12'}\n",
    "\n",
    "# create Correct date column\n",
    "df['Correct Date'] =   years.astype(str)+ '-' + df['month'].map(mappings)\n",
    "df['Correct Date'] = pd.to_datetime(df['Correct Date'])#changing type of column to date time\n",
    "\n",
    "#drop the incorrect date column\n",
    "df = df.drop(columns=['date'])\n",
    "\n",
    "# display dataset after these changes\n",
    "display(df)\n",
    "\n",
    "\n"
   ]
  },
  {
   "cell_type": "markdown",
   "id": "8e66cc1e",
   "metadata": {},
   "source": [
    "**Report**\n",
    "\n",
    "For this section, I used mapping in order to map the month names to the month numbers and then I used the pd.to_datetime due to change the type of this column to datetime64 for having the new date column named **Correct Date**. After that , I removed the primary date column which was incorrect. "
   ]
  },
  {
   "cell_type": "markdown",
   "id": "b8863b9b",
   "metadata": {
    "papermill": {
     "duration": 0.062703,
     "end_time": "2021-07-20T06:01:56.209136",
     "exception": false,
     "start_time": "2021-07-20T06:01:56.146433",
     "status": "completed"
    },
    "tags": []
   },
   "source": [
    "**Checking Null Values - use two different methods**"
   ]
  },
  {
   "cell_type": "code",
   "execution_count": 10,
   "id": "393c2343",
   "metadata": {
    "execution": {
     "iopub.execute_input": "2021-07-20T06:01:56.342587Z",
     "iopub.status.busy": "2021-07-20T06:01:56.341839Z",
     "iopub.status.idle": "2021-07-20T06:01:56.348928Z",
     "shell.execute_reply": "2021-07-20T06:01:56.348399Z",
     "shell.execute_reply.started": "2021-07-20T05:57:08.881872Z"
    },
    "papermill": {
     "duration": 0.075678,
     "end_time": "2021-07-20T06:01:56.349075",
     "exception": false,
     "start_time": "2021-07-20T06:01:56.273397",
     "status": "completed"
    },
    "tags": []
   },
   "outputs": [
    {
     "name": "stdout",
     "output_type": "stream",
     "text": [
      "Method one for null values : \n",
      "\n"
     ]
    },
    {
     "data": {
      "text/plain": [
       "year            0\n",
       "state           0\n",
       "month           0\n",
       "number          0\n",
       "Correct Date    0\n",
       "dtype: int64"
      ]
     },
     "metadata": {},
     "output_type": "display_data"
    },
    {
     "name": "stdout",
     "output_type": "stream",
     "text": [
      "Method two for null values : \n",
      "\n"
     ]
    },
    {
     "data": {
      "text/plain": [
       "year            0\n",
       "state           0\n",
       "month           0\n",
       "number          0\n",
       "Correct Date    0\n",
       "dtype: int64"
      ]
     },
     "metadata": {},
     "output_type": "display_data"
    },
    {
     "name": "stdout",
     "output_type": "stream",
     "text": [
      "Method three for null values, False means there is no null values : \n",
      "\n"
     ]
    },
    {
     "data": {
      "text/plain": [
       "year            False\n",
       "state           False\n",
       "month           False\n",
       "number          False\n",
       "Correct Date    False\n",
       "dtype: bool"
      ]
     },
     "metadata": {},
     "output_type": "display_data"
    }
   ],
   "source": [
    "# checking the null values method 1\n",
    "print(\"Method one for null values : \");print()\n",
    "display(df.isnull().sum())\n",
    "\n",
    "# checking the null values method 2\n",
    "print(\"Method two for null values : \");print()\n",
    "display(df.isna().sum())\n",
    "\n",
    "# checking the null values method 3\n",
    "print(\"Method three for null values, False means there is no null values : \");print()\n",
    "display(df.isnull().any())"
   ]
  },
  {
   "cell_type": "markdown",
   "id": "68065616",
   "metadata": {},
   "source": [
    "**Report**\n",
    "\n",
    "Here I used 3 methods for checking if we have any NA values. None of methods detected NA values.So, we can say  there is no NA in this dataset."
   ]
  },
  {
   "cell_type": "markdown",
   "id": "5cda6975",
   "metadata": {
    "papermill": {
     "duration": 0.063062,
     "end_time": "2021-07-20T06:01:57.601274",
     "exception": false,
     "start_time": "2021-07-20T06:01:57.538212",
     "status": "completed"
    },
    "tags": []
   },
   "source": [
    "# **Exploratory Data Analysis**"
   ]
  },
  {
   "cell_type": "markdown",
   "id": "ef317c6a",
   "metadata": {
    "papermill": {
     "duration": 0.062817,
     "end_time": "2021-07-20T06:01:57.728347",
     "exception": false,
     "start_time": "2021-07-20T06:01:57.665530",
     "status": "completed"
    },
    "tags": []
   },
   "source": [
    "**Plot the histograms of month and year**"
   ]
  },
  {
   "cell_type": "code",
   "execution_count": 11,
   "id": "8b33a894",
   "metadata": {
    "execution": {
     "iopub.execute_input": "2021-07-20T06:01:57.860025Z",
     "iopub.status.busy": "2021-07-20T06:01:57.859333Z",
     "iopub.status.idle": "2021-07-20T06:01:58.691495Z",
     "shell.execute_reply": "2021-07-20T06:01:58.690474Z",
     "shell.execute_reply.started": "2021-07-20T06:01:08.990741Z"
    },
    "papermill": {
     "duration": 0.900437,
     "end_time": "2021-07-20T06:01:58.691658",
     "exception": false,
     "start_time": "2021-07-20T06:01:57.791221",
     "status": "completed"
    },
    "tags": []
   },
   "outputs": [
    {
     "data": {
      "text/plain": [
       "Jan      541\n",
       "Feb      540\n",
       "Aug      540\n",
       "March    540\n",
       "July     540\n",
       "June     540\n",
       "Apr      540\n",
       "Sep      540\n",
       "Oct      540\n",
       "Nov      540\n",
       "May      540\n",
       "Dec      513\n",
       "Name: month, dtype: int64"
      ]
     },
     "metadata": {},
     "output_type": "display_data"
    },
    {
     "data": {
      "text/plain": [
       "Counter({1998: 324,\n",
       "         1999: 324,\n",
       "         2000: 324,\n",
       "         2001: 324,\n",
       "         2002: 324,\n",
       "         2003: 324,\n",
       "         2004: 324,\n",
       "         2005: 324,\n",
       "         2006: 324,\n",
       "         2007: 324,\n",
       "         2008: 324,\n",
       "         2009: 324,\n",
       "         2010: 324,\n",
       "         2011: 324,\n",
       "         2012: 324,\n",
       "         2013: 324,\n",
       "         2014: 324,\n",
       "         2015: 324,\n",
       "         2016: 324,\n",
       "         2017: 298})"
      ]
     },
     "metadata": {},
     "output_type": "display_data"
    },
    {
     "data": {
      "image/png": "[encoded data removed]",
      "text/plain": [
       "<Figure size 1440x1008 with 2 Axes>"
      ]
     },
     "metadata": {},
     "output_type": "display_data"
    }
   ],
   "source": [
    "# display the month\n",
    "plt.style.use('seaborn-white')\n",
    "\n",
    "# the number of each month repeated in the dataset\n",
    "display(df.month.value_counts())\n",
    "\n",
    "# the number of each year repeated in the dataset\n",
    "c = Counter(df.year)\n",
    "display(c)\n",
    "\n",
    "\n",
    "# create fig\n",
    "plt.figure()\n",
    "\n",
    "# plot the month histogram\n",
    "plt.subplot(2,1,1)\n",
    "df.month.hist(bins=24,figsize=(20, 14),histtype='stepfilled', color='steelblue',\n",
    "         edgecolor='red')\n",
    "\n",
    "# plot the year histogram\n",
    "plt.subplot(2,1,2)\n",
    "df.year.hist(bins=40,histtype='stepfilled', color='green',\n",
    "         edgecolor='red')\n",
    "\n",
    "plt.show();"
   ]
  },
  {
   "cell_type": "markdown",
   "id": "06c4db04",
   "metadata": {},
   "source": [
    "**Report**\n",
    "\n",
    "In order to check the histogram plot, at the first I tried to get the number of each month and year that have been repeated in this dataset:\n",
    "\n",
    "- For month , for instance the number of  month **Jan** has been repeated 541 times as indicated. \"Dec\" for 513 times and the other months have been repeated 540 times each.As a matter of fact,this is the frequency of months.\n",
    "\n",
    "- For the years also, as we can see in the above all years except 2017 have the frequency of 324 and 2017 frequency is 298.\n",
    "\n",
    "- For the histogram, I used 2 times the number of unique months and years in order to have a better and more clear hitogram plot. Otherwise , we had something like rectangular shape for this dataset since the frequency of month and years are almost the same and it is not like a normal distributuon that can have a well shaped histogram plot."
   ]
  },
  {
   "cell_type": "markdown",
   "id": "023f40eb",
   "metadata": {},
   "source": [
    "**Calculate the total number of fires in each state and plot the histograms over all states**\n",
    "\n",
    "**Check the requirements in the instruction!**"
   ]
  },
  {
   "cell_type": "code",
   "execution_count": 12,
   "id": "fb7916dc",
   "metadata": {
    "execution": {
     "iopub.execute_input": "2021-07-20T06:01:58.959779Z",
     "iopub.status.busy": "2021-07-20T06:01:58.958670Z",
     "iopub.status.idle": "2021-07-20T06:01:58.963013Z",
     "shell.execute_reply": "2021-07-20T06:01:58.963494Z",
     "shell.execute_reply.started": "2021-07-20T05:34:13.02433Z"
    },
    "papermill": {
     "duration": 0.076007,
     "end_time": "2021-07-20T06:01:58.963686",
     "exception": false,
     "start_time": "2021-07-20T06:01:58.887679",
     "status": "completed"
    },
    "tags": []
   },
   "outputs": [
    {
     "name": "stdout",
     "output_type": "stream",
     "text": [
      "The total Number of fires per state is :\n"
     ]
    },
    {
     "data": {
      "text/html": [
       "<div>\n",
       "<style scoped>\n",
       "    .dataframe tbody tr th:only-of-type {\n",
       "        vertical-align: middle;\n",
       "    }\n",
       "\n",
       "    .dataframe tbody tr th {\n",
       "        vertical-align: top;\n",
       "    }\n",
       "\n",
       "    .dataframe thead th {\n",
       "        text-align: right;\n",
       "    }\n",
       "</style>\n",
       "<table border=\"1\" class=\"dataframe\">\n",
       "  <thead>\n",
       "    <tr style=\"text-align: right;\">\n",
       "      <th></th>\n",
       "      <th>state</th>\n",
       "      <th>number</th>\n",
       "    </tr>\n",
       "  </thead>\n",
       "  <tbody>\n",
       "    <tr>\n",
       "      <th>0</th>\n",
       "      <td>Mato Grosso</td>\n",
       "      <td>96246.028</td>\n",
       "    </tr>\n",
       "    <tr>\n",
       "      <th>1</th>\n",
       "      <td>Paraiba</td>\n",
       "      <td>52435.918</td>\n",
       "    </tr>\n",
       "    <tr>\n",
       "      <th>2</th>\n",
       "      <td>Sao Paulo</td>\n",
       "      <td>51121.198</td>\n",
       "    </tr>\n",
       "    <tr>\n",
       "      <th>3</th>\n",
       "      <td>Rio</td>\n",
       "      <td>45160.865</td>\n",
       "    </tr>\n",
       "    <tr>\n",
       "      <th>4</th>\n",
       "      <td>Bahia</td>\n",
       "      <td>44746.226</td>\n",
       "    </tr>\n",
       "    <tr>\n",
       "      <th>5</th>\n",
       "      <td>Piau</td>\n",
       "      <td>37803.747</td>\n",
       "    </tr>\n",
       "    <tr>\n",
       "      <th>6</th>\n",
       "      <td>Goias</td>\n",
       "      <td>37695.520</td>\n",
       "    </tr>\n",
       "    <tr>\n",
       "      <th>7</th>\n",
       "      <td>Minas Gerais</td>\n",
       "      <td>37475.258</td>\n",
       "    </tr>\n",
       "    <tr>\n",
       "      <th>8</th>\n",
       "      <td>Tocantins</td>\n",
       "      <td>33707.885</td>\n",
       "    </tr>\n",
       "    <tr>\n",
       "      <th>9</th>\n",
       "      <td>Amazonas</td>\n",
       "      <td>30650.129</td>\n",
       "    </tr>\n",
       "    <tr>\n",
       "      <th>10</th>\n",
       "      <td>Ceara</td>\n",
       "      <td>30428.063</td>\n",
       "    </tr>\n",
       "    <tr>\n",
       "      <th>11</th>\n",
       "      <td>Maranhao</td>\n",
       "      <td>25129.131</td>\n",
       "    </tr>\n",
       "    <tr>\n",
       "      <th>12</th>\n",
       "      <td>Pará</td>\n",
       "      <td>24512.144</td>\n",
       "    </tr>\n",
       "    <tr>\n",
       "      <th>13</th>\n",
       "      <td>Pernambuco</td>\n",
       "      <td>24498.000</td>\n",
       "    </tr>\n",
       "    <tr>\n",
       "      <th>14</th>\n",
       "      <td>Roraima</td>\n",
       "      <td>24385.074</td>\n",
       "    </tr>\n",
       "    <tr>\n",
       "      <th>15</th>\n",
       "      <td>Santa Catarina</td>\n",
       "      <td>24359.852</td>\n",
       "    </tr>\n",
       "    <tr>\n",
       "      <th>16</th>\n",
       "      <td>Amapa</td>\n",
       "      <td>21831.576</td>\n",
       "    </tr>\n",
       "    <tr>\n",
       "      <th>17</th>\n",
       "      <td>Rondonia</td>\n",
       "      <td>20285.429</td>\n",
       "    </tr>\n",
       "    <tr>\n",
       "      <th>18</th>\n",
       "      <td>Acre</td>\n",
       "      <td>18464.030</td>\n",
       "    </tr>\n",
       "    <tr>\n",
       "      <th>19</th>\n",
       "      <td>Espirito Santo</td>\n",
       "      <td>6546.000</td>\n",
       "    </tr>\n",
       "    <tr>\n",
       "      <th>20</th>\n",
       "      <td>Alagoas</td>\n",
       "      <td>4644.000</td>\n",
       "    </tr>\n",
       "    <tr>\n",
       "      <th>21</th>\n",
       "      <td>Distrito Federal</td>\n",
       "      <td>3561.000</td>\n",
       "    </tr>\n",
       "    <tr>\n",
       "      <th>22</th>\n",
       "      <td>Sergipe</td>\n",
       "      <td>3237.000</td>\n",
       "    </tr>\n",
       "  </tbody>\n",
       "</table>\n",
       "</div>"
      ],
      "text/plain": [
       "               state     number\n",
       "0        Mato Grosso  96246.028\n",
       "1            Paraiba  52435.918\n",
       "2          Sao Paulo  51121.198\n",
       "3                Rio  45160.865\n",
       "4              Bahia  44746.226\n",
       "5               Piau  37803.747\n",
       "6              Goias  37695.520\n",
       "7       Minas Gerais  37475.258\n",
       "8          Tocantins  33707.885\n",
       "9           Amazonas  30650.129\n",
       "10             Ceara  30428.063\n",
       "11          Maranhao  25129.131\n",
       "12              Pará  24512.144\n",
       "13        Pernambuco  24498.000\n",
       "14           Roraima  24385.074\n",
       "15    Santa Catarina  24359.852\n",
       "16             Amapa  21831.576\n",
       "17          Rondonia  20285.429\n",
       "18              Acre  18464.030\n",
       "19    Espirito Santo   6546.000\n",
       "20           Alagoas   4644.000\n",
       "21  Distrito Federal   3561.000\n",
       "22           Sergipe   3237.000"
      ]
     },
     "metadata": {},
     "output_type": "display_data"
    },
    {
     "name": "stdout",
     "output_type": "stream",
     "text": [
      "\n"
     ]
    },
    {
     "data": {
      "text/plain": [
       "'The min number of fire is for : '"
      ]
     },
     "metadata": {},
     "output_type": "display_data"
    },
    {
     "data": {
      "text/html": [
       "<div>\n",
       "<style scoped>\n",
       "    .dataframe tbody tr th:only-of-type {\n",
       "        vertical-align: middle;\n",
       "    }\n",
       "\n",
       "    .dataframe tbody tr th {\n",
       "        vertical-align: top;\n",
       "    }\n",
       "\n",
       "    .dataframe thead th {\n",
       "        text-align: right;\n",
       "    }\n",
       "</style>\n",
       "<table border=\"1\" class=\"dataframe\">\n",
       "  <thead>\n",
       "    <tr style=\"text-align: right;\">\n",
       "      <th></th>\n",
       "      <th>state</th>\n",
       "      <th>number</th>\n",
       "    </tr>\n",
       "  </thead>\n",
       "  <tbody>\n",
       "    <tr>\n",
       "      <th>22</th>\n",
       "      <td>Sergipe</td>\n",
       "      <td>3237.0</td>\n",
       "    </tr>\n",
       "  </tbody>\n",
       "</table>\n",
       "</div>"
      ],
      "text/plain": [
       "      state  number\n",
       "22  Sergipe  3237.0"
      ]
     },
     "metadata": {},
     "output_type": "display_data"
    },
    {
     "name": "stdout",
     "output_type": "stream",
     "text": [
      "\n"
     ]
    },
    {
     "data": {
      "text/plain": [
       "'The max number of fire is for : '"
      ]
     },
     "metadata": {},
     "output_type": "display_data"
    },
    {
     "data": {
      "text/html": [
       "<div>\n",
       "<style scoped>\n",
       "    .dataframe tbody tr th:only-of-type {\n",
       "        vertical-align: middle;\n",
       "    }\n",
       "\n",
       "    .dataframe tbody tr th {\n",
       "        vertical-align: top;\n",
       "    }\n",
       "\n",
       "    .dataframe thead th {\n",
       "        text-align: right;\n",
       "    }\n",
       "</style>\n",
       "<table border=\"1\" class=\"dataframe\">\n",
       "  <thead>\n",
       "    <tr style=\"text-align: right;\">\n",
       "      <th></th>\n",
       "      <th>state</th>\n",
       "      <th>number</th>\n",
       "    </tr>\n",
       "  </thead>\n",
       "  <tbody>\n",
       "    <tr>\n",
       "      <th>0</th>\n",
       "      <td>Mato Grosso</td>\n",
       "      <td>96246.028</td>\n",
       "    </tr>\n",
       "  </tbody>\n",
       "</table>\n",
       "</div>"
      ],
      "text/plain": [
       "         state     number\n",
       "0  Mato Grosso  96246.028"
      ]
     },
     "metadata": {},
     "output_type": "display_data"
    },
    {
     "name": "stdout",
     "output_type": "stream",
     "text": [
      "\n"
     ]
    },
    {
     "data": {
      "text/plain": [
       "'The average number of fire over all states is : '"
      ]
     },
     "metadata": {},
     "output_type": "display_data"
    },
    {
     "data": {
      "text/plain": [
       "30388.003173913043"
      ]
     },
     "metadata": {},
     "output_type": "display_data"
    },
    {
     "name": "stdout",
     "output_type": "stream",
     "text": [
      "\n"
     ]
    },
    {
     "data": {
      "image/png": "[encoded data removed]",
      "text/plain": [
       "<Figure size 1296x648 with 1 Axes>"
      ]
     },
     "metadata": {},
     "output_type": "display_data"
    }
   ],
   "source": [
    "\n",
    "# create a dataframe for calculating the number of fires per state\n",
    "df1 = df.groupby('state', as_index = False).agg({'number' : 'sum'}) \\\n",
    ".sort_values('number', ascending = False).reset_index().drop('index', axis = 1)\n",
    "\n",
    "# calculate the number of fires in each state\n",
    "print(\"The total Number of fires per state is :\")\n",
    "display(df1)\n",
    "\n",
    "\n",
    "# create fig to show the plot\n",
    "fig = plt.figure(figsize = (18, 9))\n",
    "ax = fig.add_axes([0, 0, 1, 1])\n",
    "\n",
    "# create chart\n",
    "ax.bar(x = df1['state'][:1], height = df1['number'][:1], color = 'red')\n",
    "ax.bar(x = df1['state'][1:5], height = df1['number'][1:5], color = 'orange')\n",
    "ax.bar(x = df1['state'][5:], height = df1['number'][5:],color='green')\n",
    "\n",
    "\n",
    "# for the notation on the bars\n",
    "for s in ax.patches:\n",
    "    width = s.get_width()\n",
    "    height = s.get_height()\n",
    "    x, y = s.get_xy() \n",
    "    ax.annotate('{:.0f}'.format(height), (x + width/2, y + height+1000), fontsize = 12, fontweight = 'bold',color = 'black' ,ha='center' )\n",
    "\n",
    "    \n",
    "# title of plot\n",
    "plt.title('Number of Fires per state in Brazil between 1998 and 2017', horizontalalignment='center', color = 'black', fontsize = 40, fontweight = 'bold')\n",
    "plt.xticks(rotation = 90);\n",
    "\n",
    "\n",
    "\n",
    "# most and least number of fires as well as mean over all states\n",
    "print()\n",
    "display(\"The min number of fire is for : \",df1[df1.number == df1.number.min()])#min\n",
    "print()\n",
    "display(\"The max number of fire is for : \",df1[df1.number == df1.number.max()])#max\n",
    "print()\n",
    "display(\"The average number of fire over all states is : \",df1.number.mean())#mean\n",
    "print()"
   ]
  },
  {
   "cell_type": "markdown",
   "id": "a1c3993f",
   "metadata": {},
   "source": [
    "**Report**\n",
    "\n",
    "For getting the number of fires for each state , I used the group by function over the state column. Then , I used the aggregation function (sum) over the number column in order to add the number of fires for each state. \n",
    "\n",
    "Then , I sorted these values based on number of fires for each state from the highest to the lowest.After that I reseted the index and drop the previous index in the 1st axis in order to save it as a dataframe without any extra indexes. Finally , I saved it in a new data frame named df1.\n",
    "\n",
    "Histogram bar plot clearly shows the 3 levels for the fires for each state. The 1st level is presented by Red color that shows the highest number of fire which is for Mato Grosso state. 2nd Level is indicated by orange color including 4 states. And the 3rd level which is presented by Green color includes 18 states.\n",
    "\n",
    "Also, for the Max and Min number of fires among all states, I used the method showing the df1 dataframe when the number column in df1 dataframe is maximum and minimum respectively.\n",
    "\n",
    "As indictaed in the plot, the **maximum** number of fires has been for the **Mato Grosso** state with **96246.028** fires. And the **minimum** number of fires has been for the **Sergipe** state with **3237** fires.\n",
    "\n",
    "It is worth mentioning that the average value of fire over all states is **30388**.\n"
   ]
  },
  {
   "cell_type": "markdown",
   "id": "bd17a125",
   "metadata": {},
   "source": [
    "**Calculate the total number of fires in 'Amazonas' each year and plot it**\n",
    "\n",
    "**Check the requirements in the instruction!**"
   ]
  },
  {
   "cell_type": "code",
   "execution_count": 13,
   "id": "0e8765e4",
   "metadata": {},
   "outputs": [
    {
     "data": {
      "text/html": [
       "<div>\n",
       "<style scoped>\n",
       "    .dataframe tbody tr th:only-of-type {\n",
       "        vertical-align: middle;\n",
       "    }\n",
       "\n",
       "    .dataframe tbody tr th {\n",
       "        vertical-align: top;\n",
       "    }\n",
       "\n",
       "    .dataframe thead th {\n",
       "        text-align: right;\n",
       "    }\n",
       "</style>\n",
       "<table border=\"1\" class=\"dataframe\">\n",
       "  <thead>\n",
       "    <tr style=\"text-align: right;\">\n",
       "      <th></th>\n",
       "      <th>year</th>\n",
       "      <th>number</th>\n",
       "    </tr>\n",
       "  </thead>\n",
       "  <tbody>\n",
       "    <tr>\n",
       "      <th>0</th>\n",
       "      <td>1998</td>\n",
       "      <td>946.000</td>\n",
       "    </tr>\n",
       "    <tr>\n",
       "      <th>1</th>\n",
       "      <td>1999</td>\n",
       "      <td>1061.000</td>\n",
       "    </tr>\n",
       "    <tr>\n",
       "      <th>2</th>\n",
       "      <td>2000</td>\n",
       "      <td>853.000</td>\n",
       "    </tr>\n",
       "    <tr>\n",
       "      <th>3</th>\n",
       "      <td>2001</td>\n",
       "      <td>1297.000</td>\n",
       "    </tr>\n",
       "    <tr>\n",
       "      <th>4</th>\n",
       "      <td>2002</td>\n",
       "      <td>2852.000</td>\n",
       "    </tr>\n",
       "    <tr>\n",
       "      <th>5</th>\n",
       "      <td>2003</td>\n",
       "      <td>1524.268</td>\n",
       "    </tr>\n",
       "    <tr>\n",
       "      <th>6</th>\n",
       "      <td>2004</td>\n",
       "      <td>2298.207</td>\n",
       "    </tr>\n",
       "    <tr>\n",
       "      <th>7</th>\n",
       "      <td>2005</td>\n",
       "      <td>1657.128</td>\n",
       "    </tr>\n",
       "    <tr>\n",
       "      <th>8</th>\n",
       "      <td>2006</td>\n",
       "      <td>997.640</td>\n",
       "    </tr>\n",
       "    <tr>\n",
       "      <th>9</th>\n",
       "      <td>2007</td>\n",
       "      <td>589.601</td>\n",
       "    </tr>\n",
       "    <tr>\n",
       "      <th>10</th>\n",
       "      <td>2008</td>\n",
       "      <td>2717.000</td>\n",
       "    </tr>\n",
       "    <tr>\n",
       "      <th>11</th>\n",
       "      <td>2009</td>\n",
       "      <td>1320.601</td>\n",
       "    </tr>\n",
       "    <tr>\n",
       "      <th>12</th>\n",
       "      <td>2010</td>\n",
       "      <td>2324.508</td>\n",
       "    </tr>\n",
       "    <tr>\n",
       "      <th>13</th>\n",
       "      <td>2011</td>\n",
       "      <td>1652.538</td>\n",
       "    </tr>\n",
       "    <tr>\n",
       "      <th>14</th>\n",
       "      <td>2012</td>\n",
       "      <td>1110.641</td>\n",
       "    </tr>\n",
       "    <tr>\n",
       "      <th>15</th>\n",
       "      <td>2013</td>\n",
       "      <td>905.217</td>\n",
       "    </tr>\n",
       "    <tr>\n",
       "      <th>16</th>\n",
       "      <td>2014</td>\n",
       "      <td>2385.909</td>\n",
       "    </tr>\n",
       "    <tr>\n",
       "      <th>17</th>\n",
       "      <td>2015</td>\n",
       "      <td>1189.994</td>\n",
       "    </tr>\n",
       "    <tr>\n",
       "      <th>18</th>\n",
       "      <td>2016</td>\n",
       "      <td>2060.972</td>\n",
       "    </tr>\n",
       "    <tr>\n",
       "      <th>19</th>\n",
       "      <td>2017</td>\n",
       "      <td>906.905</td>\n",
       "    </tr>\n",
       "  </tbody>\n",
       "</table>\n",
       "</div>"
      ],
      "text/plain": [
       "    year    number\n",
       "0   1998   946.000\n",
       "1   1999  1061.000\n",
       "2   2000   853.000\n",
       "3   2001  1297.000\n",
       "4   2002  2852.000\n",
       "5   2003  1524.268\n",
       "6   2004  2298.207\n",
       "7   2005  1657.128\n",
       "8   2006   997.640\n",
       "9   2007   589.601\n",
       "10  2008  2717.000\n",
       "11  2009  1320.601\n",
       "12  2010  2324.508\n",
       "13  2011  1652.538\n",
       "14  2012  1110.641\n",
       "15  2013   905.217\n",
       "16  2014  2385.909\n",
       "17  2015  1189.994\n",
       "18  2016  2060.972\n",
       "19  2017   906.905"
      ]
     },
     "metadata": {},
     "output_type": "display_data"
    },
    {
     "name": "stdout",
     "output_type": "stream",
     "text": [
      "total number of fires in amazonas:  30650.129\n"
     ]
    },
    {
     "data": {
      "image/png": "[encoded data removed]",
      "text/plain": [
       "<Figure size 1296x720 with 1 Axes>"
      ]
     },
     "metadata": {},
     "output_type": "display_data"
    }
   ],
   "source": [
    "# to get the fire values for Amazonas state in each year\n",
    "amazonas_df= (df.loc[df.state==\"Amazonas\",:].groupby(\"year\").agg({\"number\":\"sum\"}).sort_values(\"year\").\n",
    "           reset_index()\n",
    ")\n",
    "\n",
    "# show the values\n",
    "display(amazonas_df)\n",
    "\n",
    "# to check if I got it correctly \n",
    "print(\"total number of fires in amazonas: \",amazonas_df.number.sum())\n",
    "\n",
    "\n",
    "# plot\n",
    "plt.figure(figsize = (18, 10))\n",
    "plt.plot(amazonas_df.year,amazonas_df.number, '-ok',color='blue',\n",
    "                markersize=9, linewidth=3,\n",
    "                markeredgecolor='black',\n",
    "                markeredgewidth=4)\n",
    "# limits\n",
    "plt.xlim(1997,2018)\n",
    "plt.ylim(200, 3500)\n",
    "\n",
    "\n",
    "# labels\n",
    "plt.xlabel('Year', color = 'black', fontsize = 19, fontweight = 'bold')\n",
    "plt.ylabel('Number', color = 'black', fontsize = 19, fontweight = 'bold')\n",
    "\n",
    "# title\n",
    "plt.title('Number of fires for each year in Amazonas state', color = 'black', fontsize = 20, fontweight = 'bold');\n",
    "\n"
   ]
  },
  {
   "cell_type": "markdown",
   "id": "71a1c61f",
   "metadata": {},
   "source": [
    "**Indicate the years with the most and the least number of fires in the Amazonas**"
   ]
  },
  {
   "cell_type": "code",
   "execution_count": 14,
   "id": "22849704",
   "metadata": {},
   "outputs": [
    {
     "data": {
      "text/plain": [
       "'The minimum number of fire in Amazonas state is for : '"
      ]
     },
     "metadata": {},
     "output_type": "display_data"
    },
    {
     "data": {
      "text/html": [
       "<div>\n",
       "<style scoped>\n",
       "    .dataframe tbody tr th:only-of-type {\n",
       "        vertical-align: middle;\n",
       "    }\n",
       "\n",
       "    .dataframe tbody tr th {\n",
       "        vertical-align: top;\n",
       "    }\n",
       "\n",
       "    .dataframe thead th {\n",
       "        text-align: right;\n",
       "    }\n",
       "</style>\n",
       "<table border=\"1\" class=\"dataframe\">\n",
       "  <thead>\n",
       "    <tr style=\"text-align: right;\">\n",
       "      <th></th>\n",
       "      <th>year</th>\n",
       "      <th>number</th>\n",
       "    </tr>\n",
       "  </thead>\n",
       "  <tbody>\n",
       "    <tr>\n",
       "      <th>9</th>\n",
       "      <td>2007</td>\n",
       "      <td>589.601</td>\n",
       "    </tr>\n",
       "  </tbody>\n",
       "</table>\n",
       "</div>"
      ],
      "text/plain": [
       "   year   number\n",
       "9  2007  589.601"
      ]
     },
     "metadata": {},
     "output_type": "display_data"
    },
    {
     "name": "stdout",
     "output_type": "stream",
     "text": [
      "\n"
     ]
    },
    {
     "data": {
      "text/plain": [
       "'The maximum number of fire in Amazonas state is for : '"
      ]
     },
     "metadata": {},
     "output_type": "display_data"
    },
    {
     "data": {
      "text/html": [
       "<div>\n",
       "<style scoped>\n",
       "    .dataframe tbody tr th:only-of-type {\n",
       "        vertical-align: middle;\n",
       "    }\n",
       "\n",
       "    .dataframe tbody tr th {\n",
       "        vertical-align: top;\n",
       "    }\n",
       "\n",
       "    .dataframe thead th {\n",
       "        text-align: right;\n",
       "    }\n",
       "</style>\n",
       "<table border=\"1\" class=\"dataframe\">\n",
       "  <thead>\n",
       "    <tr style=\"text-align: right;\">\n",
       "      <th></th>\n",
       "      <th>year</th>\n",
       "      <th>number</th>\n",
       "    </tr>\n",
       "  </thead>\n",
       "  <tbody>\n",
       "    <tr>\n",
       "      <th>4</th>\n",
       "      <td>2002</td>\n",
       "      <td>2852.0</td>\n",
       "    </tr>\n",
       "  </tbody>\n",
       "</table>\n",
       "</div>"
      ],
      "text/plain": [
       "   year  number\n",
       "4  2002  2852.0"
      ]
     },
     "metadata": {},
     "output_type": "display_data"
    }
   ],
   "source": [
    "# most and least number of fires in Amazonas state\n",
    "display(\"The minimum number of fire in Amazonas state is for : \"\n",
    "        ,amazonas_df[amazonas_df.number == amazonas_df.number.min()])#min\n",
    "print()\n",
    "display(\"The maximum number of fire in Amazonas state is for : \"\n",
    "        ,amazonas_df[amazonas_df.number == amazonas_df.number.max()])#max"
   ]
  },
  {
   "cell_type": "markdown",
   "id": "4c4c54ad",
   "metadata": {},
   "source": [
    "**Report**\n",
    "\n",
    "For getting the number of fires in Amazonas state, I used the group by function when the state column in original data frame is Amazonas by means of explicit indexing and the aggregation function is sum on the number column.\n",
    "\n",
    "Then I sorted it based on the years and in the final step I reseted the index. I saved these data in a new 2-column data frame named amazonas_df that includes the years and number of fires in Amazonas state. \n",
    "\n",
    "To check if I got these numbers correctly , I used the sum over the number column and compared it with the previous section output that gave us the number of fires in each state.\n",
    "\n",
    "For the plot , I used the plt.plot in order to show the number of fires in different years in Amazonas state.In order to have a better plot,I used the available options in the plt.plot to show a better one. \n",
    "\n",
    "As we see, there are sharp increasing trends from 2000 to 2002 and also since 2007 to 2008 . It is noticeable. Generally , there are several increase and decreases in the plot ;however, if we look from 2008 to 2017 a decreasing trend can be seen because the pinnacles have been decreasing. \n",
    "\n",
    "Also, for the Max and Min number of fires in Amazonas, I used the method showing the amazonas dataframe when the number column in Amazonas dataframe is maximum and minimum respectively.\n",
    "\n",
    "As indictaed in the plot for the Amazonas state, the **maximum** number of fires has been for the year **2002 with 2852** fires. And the **minimum** number of fires has been for the year **2007 with 589.601** fires."
   ]
  },
  {
   "cell_type": "markdown",
   "id": "1b8cff79",
   "metadata": {},
   "source": [
    "**Note**\n",
    "**Acknowledgement**\n",
    "\n",
    "Credits for brazilian system of forest information and all contributors to the data."
   ]
  }
 ],
 "metadata": {
  "kernelspec": {
   "display_name": "Python 3",
   "language": "python",
   "name": "python3"
  },
  "language_info": {
   "codemirror_mode": {
    "name": "ipython",
    "version": 3
   },
   "file_extension": ".py",
   "mimetype": "text/x-python",
   "name": "python",
   "nbconvert_exporter": "python",
   "pygments_lexer": "ipython3",
   "version": "3.8.8"
  },
  "papermill": {
   "default_parameters": {},
   "duration": 62.918674,
   "end_time": "2021-07-20T06:02:47.976118",
   "environment_variables": {},
   "exception": null,
   "input_path": "__notebook__.ipynb",
   "output_path": "__notebook__.ipynb",
   "parameters": {},
   "start_time": "2021-07-20T06:01:45.057444",
   "version": "2.3.3"
  }
 },
 "nbformat": 4,
 "nbformat_minor": 5
}
